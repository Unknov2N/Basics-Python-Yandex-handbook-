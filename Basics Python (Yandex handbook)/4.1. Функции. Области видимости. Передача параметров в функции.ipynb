{
 "cells": [
  {
   "attachments": {},
   "cell_type": "markdown",
   "metadata": {},
   "source": [
    "#### A. Функциональное приветствие\n",
    "Большинство задач этой главы ориентировано на отработку навыков по разработке функций.\n",
    "\n",
    "Ваше решение будет использоваться как библиотека.\n",
    "\n",
    "Напишите функцию print_hello, которая принимает имя пользователя и выводит приветствие в стандартный поток вывода.\n",
    "\n",
    "Примечание\n",
    "Ваше решение должно содержать только функции.\n",
    "В решении не должно быть вызовов требуемых функций.\n",
    "\n",
    "Пример 1\n",
    "Ввод\n",
    "name = \"world\"\n",
    "print_hello(name)\n",
    "Вывод\n",
    "Hello, world!\n",
    "Пример 2\n",
    "Ввод\n",
    "string = \"Yandex\"\n",
    "print_hello(string)\n",
    "Вывод\n",
    "Hello, Yandex!\n"
   ]
  },
  {
   "cell_type": "code",
   "execution_count": null,
   "metadata": {},
   "outputs": [],
   "source": [
    "def print_hello(name):\n",
    "    print(f\"Hello, {name}!\")"
   ]
  },
  {
   "attachments": {},
   "cell_type": "markdown",
   "metadata": {},
   "source": [
    "#### B. Функциональный НОД\n",
    "Напишите функцию gcd, которая принимает два натуральных числа и возвращает их наибольший общий делитель.\n",
    "\n",
    "Примечание\n",
    "Ваше решение должно содержать только функции.\n",
    "В решении не должно быть вызовов требуемых функций.\n",
    "\n",
    "Пример 1\n",
    "Ввод\n",
    "result = gcd(12, 45)\n",
    "Вывод\n",
    "result = 3\n",
    "Пример 2\n",
    "Ввод\n",
    "result = gcd(144, 96)\n",
    "Вывод\n",
    "result = 48"
   ]
  },
  {
   "cell_type": "code",
   "execution_count": null,
   "metadata": {},
   "outputs": [],
   "source": [
    "def gcd(a, b):\n",
    "    while a % b != 0:\n",
    "        c = a\n",
    "        a = b\n",
    "        b = c % b\n",
    "    else:\n",
    "        return b"
   ]
  },
  {
   "attachments": {},
   "cell_type": "markdown",
   "metadata": {},
   "source": [
    "#### C. Длина числа\n",
    "Разработайте функцию number_length, которая принимает одно целое число и возвращает его длину без учёта знака.\n",
    "\n",
    "Примечание\n",
    "Ваше решение должно содержать только функции.\n",
    "В решении не должно быть вызовов требуемых функций.\n",
    "\n",
    "Пример 1\n",
    "Ввод\n",
    "result = number_length(12345)\n",
    "Вывод\n",
    "result = 5\n",
    "Пример 2\n",
    "Ввод\n",
    "result = number_length(-100500)\n",
    "Вывод\n",
    "result = 6\n"
   ]
  },
  {
   "cell_type": "code",
   "execution_count": null,
   "metadata": {},
   "outputs": [],
   "source": [
    "def number_length(number):\n",
    "    return len(str(number).lstrip('-'))\n"
   ]
  },
  {
   "attachments": {},
   "cell_type": "markdown",
   "metadata": {},
   "source": [
    "### D. Имя of the month\n",
    "Разработайте функцию month, которая принимает номер месяца и обозначение языка (\"ru\", \"en\") и возвращает название заданного месяца в заданном языке с заглавной буквы.\n",
    "\n",
    "Примечание\n",
    "Ваше решение должно содержать только функции.\n",
    "В решении не должно быть вызовов требуемых функций.\n",
    "\n",
    "Пример 1\n",
    "Ввод\n",
    "result = month(1, \"en\")\n",
    "Вывод\n",
    "result = 'January'\n",
    "Пример 2\n",
    "Ввод\n",
    "result = month(7, \"ru\")\n",
    "Вывод\n",
    "result = 'Июль'\n"
   ]
  },
  {
   "cell_type": "code",
   "execution_count": null,
   "metadata": {},
   "outputs": [],
   "source": [
    "def month(month_num, lang):\n",
    "    months_ru = [\"Январь\", \"Февраль\", \"Март\", \"Апрель\", \"Май\", \"Июнь\",\n",
    "                 \"Июль\", \"Август\", \"Сентябрь\", \"Октябрь\", \"Ноябрь\", \"Декабрь\"]\n",
    "    months_en = [\"January\", \"February\", \"March\", \"April\", \"May\", \"June\",\n",
    "                 \"July\", \"August\", \"September\", \"October\", \"November\", \"December\"]\n",
    "\n",
    "    match lang:\n",
    "        case 'ru':\n",
    "            return months_ru[month_num - 1]\n",
    "        case 'en':\n",
    "            return months_en[month_num - 1]\n"
   ]
  },
  {
   "attachments": {},
   "cell_type": "markdown",
   "metadata": {},
   "source": [
    "### E. Числовая строка\n",
    "Разработайте функцию split_numbers, которая принимает строку целых чисел, разделённых пробелами, и возвращает кортеж из этих чисел.\n",
    "\n",
    "Примечание\n",
    "Ваше решение должно содержать только функции.\n",
    "В решении не должно быть вызовов требуемых функций.\n",
    "\n",
    "Вы можете спросить: почему кортеж, а не список. Всё дело в безопасности. Кортежи неизменяемые коллекции и их безопаснее передавать в функцию или из неё.\n",
    "\n",
    "Пример 1\n",
    "Ввод\n",
    "result = split_numbers(\"1 2 3 4 5\")\n",
    "Вывод\n",
    "result = (1, 2, 3, 4, 5)\n",
    "Пример 2\n",
    "Ввод\n",
    "result = split_numbers(\"1 -2 3 -4 5\")\n",
    "Вывод\n",
    "result = (1, -2, 3, -4, 5)\n"
   ]
  },
  {
   "cell_type": "code",
   "execution_count": 1,
   "metadata": {},
   "outputs": [
    {
     "name": "stdout",
     "output_type": "stream",
     "text": [
      "(1, 2, 5, 458, -3)\n"
     ]
    }
   ],
   "source": [
    "def split_numbers(int_numbers):\n",
    "    return tuple([int(i) for i in int_numbers.split()])\n"
   ]
  },
  {
   "attachments": {},
   "cell_type": "markdown",
   "metadata": {},
   "source": [
    "### F. Модернизация системы вывода\n",
    "Разработайте функцию modern_print, которая принимает строку и выводит её, если она не была выведена ранее.\n",
    "\n",
    "Примечание\n",
    "В решении не должно быть вызовов требуемых функций.\n",
    "\n",
    "Пример 1\n",
    "Ввод\n",
    "modern_print(\"Hello!\")\n",
    "modern_print(\"Hello!\")\n",
    "modern_print(\"How do you do?\")\n",
    "modern_print(\"Hello!\")\n",
    "Вывод\n",
    "Hello!\n",
    "How do you do?\n",
    "Пример 2\n",
    "Ввод\n",
    "modern_print(\"Ало!\")\n",
    "modern_print(\"Ало!\")\n",
    "modern_print(\"Я тебя не слышу\")\n",
    "modern_print(\"Ало!\")\n",
    "modern_print(\"Ало!\")\n",
    "modern_print(\"Позвони когда сможешь\")\n",
    "modern_print(\"Позвони когда сможешь\")\n",
    "modern_print(\"Я тебя не слышу\")\n",
    "Вывод\n",
    "Ало!\n",
    "Я тебя не слышу\n",
    "Позвони когда сможешь\n"
   ]
  },
  {
   "cell_type": "code",
   "execution_count": null,
   "metadata": {},
   "outputs": [],
   "source": [
    "base = set()\n",
    "\n",
    "\n",
    "def modern_print(string: str):\n",
    "    if string not in base:\n",
    "        print(string)\n",
    "        base.add(string)\n",
    "\n",
    "\n",
    "modern_print(\"Hello!\")\n",
    "modern_print(\"Hello!\")\n",
    "modern_print(\"How do you do?\")\n",
    "modern_print(\"Hello!\")"
   ]
  },
  {
   "attachments": {},
   "cell_type": "markdown",
   "metadata": {},
   "source": [
    "#### G. Шахматный «обед»\n",
    "Напишите функцию can_eat, которая принимает положение коня и другой фигуры в виде кортежей из двух координат, а возвращает булево значение: True если конь съедает фигуру и False иначе.\n",
    "\n",
    "Примечание\n",
    "Ваше решение должно содержать только функции.\n",
    "В решении не должно быть вызовов требуемых функций.\n",
    "\n",
    "Пример 1\n",
    "Ввод\n",
    "result = can_eat((2, 1), (4, 2))\n",
    "Вывод\n",
    "result = True\n",
    "Пример 2\n",
    "Ввод\n",
    "result = can_eat((5, 5), (6, 6))\n",
    "Вывод\n",
    "result = False\n"
   ]
  },
  {
   "cell_type": "code",
   "execution_count": 6,
   "metadata": {},
   "outputs": [
    {
     "name": "stdout",
     "output_type": "stream",
     "text": [
      "True\n"
     ]
    }
   ],
   "source": [
    "from itertools import permutations\n",
    "\n",
    "\n",
    "def can_eat(coord_knight, coord_piece):\n",
    "    knight_steps = ((1, 2), (1, -2), (2, 1), (2, -1), (-1, 2), (-1, -2), (-2, 1), (-2, -1))\n",
    "    for x, y in knight_steps:\n",
    "        if x + coord_knight[0] == coord_piece[0] and y + coord_knight[1] == coord_piece[1]:\n",
    "            return True\n",
    "    return False\n"
   ]
  },
  {
   "attachments": {},
   "cell_type": "markdown",
   "metadata": {},
   "source": [
    "### H. А роза упала на лапу Азора 7.0\n",
    "Напишите функцию is_palindrome, которая принимает натуральное число, строку, кортеж или список, а возвращает логическое значение: True — если передан палиндром, а в противном случае — False.\n",
    "\n",
    "Примечание\n",
    "Ваше решение должно содержать только функции.\n",
    "В решении не должно быть вызовов требуемых функций.\n",
    "\n",
    "Для определения типа параметра можно воспользоваться функцией type или более продвинутой isinstance.\n",
    "\n",
    "Пример 1\n",
    "Ввод\n",
    "result = is_palindrome(123)\n",
    "Вывод\n",
    "result = False\n",
    "Пример 2\n",
    "Ввод\n",
    "result = is_palindrome([1, 2, 1, 2, 1])\n",
    "Вывод\n",
    "result = True"
   ]
  },
  {
   "cell_type": "code",
   "execution_count": 3,
   "metadata": {},
   "outputs": [
    {
     "name": "stdout",
     "output_type": "stream",
     "text": [
      "False\n"
     ]
    }
   ],
   "source": [
    "def is_palindrome(value):\n",
    "    if type(value) == int:\n",
    "        if str(value) == str(value)[::-1]:\n",
    "            return True\n",
    "    elif type(value) == str:\n",
    "        if value == value[::-1]:\n",
    "            return True\n",
    "    elif type(value) == tuple or type(value) == list:\n",
    "        if value == value[::-1]:\n",
    "            return True\n",
    "    return False"
   ]
  },
  {
   "attachments": {},
   "cell_type": "markdown",
   "metadata": {},
   "source": [
    "### I. Простая задача 5.0\n",
    "Напишите функцию is_prime, которая принимает натуральное число, а возвращает булево значение: True — если переданное число простое, а иначе — False.\n",
    "\n",
    "Примечание\n",
    "Ваше решение должно содержать только функции.\n",
    "В решении не должно быть вызовов требуемых функций.\n",
    "\n",
    "Пример 1\n",
    "Ввод\n",
    "result = is_prime(1001459)\n",
    "Вывод\n",
    "result = True\n",
    "Пример 2\n",
    "Ввод\n",
    "result = is_prime(79701)\n",
    "Вывод\n",
    "result = False\n"
   ]
  },
  {
   "cell_type": "code",
   "execution_count": 8,
   "metadata": {},
   "outputs": [
    {
     "name": "stdout",
     "output_type": "stream",
     "text": [
      "True\n"
     ]
    }
   ],
   "source": [
    "def is_prime(number):\n",
    "    if number in [2, 3, 5]:\n",
    "        return True\n",
    "    if number == 1 or number != 2 and number % 2 == 0:\n",
    "        return False\n",
    "    if sum([int(n) for n in str(number)]) % 3 == 0:\n",
    "        return False\n",
    "    \n",
    "    for i in range(7, round(number ** 0.5), 6):\n",
    "        if number % i == 0:\n",
    "            return False\n",
    "    \n",
    "    for i in range(5, round(number ** 0.5), 6):\n",
    "        if number % i == 0:\n",
    "            return False\n",
    "        \n",
    "    return True"
   ]
  },
  {
   "attachments": {},
   "cell_type": "markdown",
   "metadata": {},
   "source": [
    "### J. Слияние\n",
    "Напишите функцию merge, которая принимает два отсортированных по возрастанию кортежа целых чисел, а возвращает один из всех переданных чисел.\n",
    "\n",
    "Примечание\n",
    "Ваше решение должно содержать только функции.\n",
    "В решении не должно быть вызовов требуемых функций.\n",
    "_В этой задаче отключены стандартные сортировки_\n",
    "\n",
    "Пример 1\n",
    "Ввод\n",
    "result = merge((1, 2), (3, 4, 5))\n",
    "Вывод\n",
    "result = (1, 2, 3, 4, 5)\n",
    "Пример 2\n",
    "Ввод\n",
    "result = merge((7, 12), (1, 9, 50))\n",
    "Вывод\n",
    "result = (1, 7, 9, 12, 50)\n"
   ]
  },
  {
   "cell_type": "code",
   "execution_count": 14,
   "metadata": {},
   "outputs": [
    {
     "name": "stdout",
     "output_type": "stream",
     "text": [
      "(1, 2, 3, 3, 4, 5, 45, 233, 235)\n"
     ]
    }
   ],
   "source": [
    "def merge(t1, t2):  # 't' is a tuple\n",
    "    i1 = 0\n",
    "    i2 = 0\n",
    "    result = []\n",
    "    len1 = len(t1)\n",
    "    len2 = len(t2)\n",
    "\n",
    "    while i1 + i2 != len1 + len2:\n",
    "        if i1 < len1:\n",
    "            if i2 < len2:\n",
    "                if t1[i1] < t2[i2]:\n",
    "                    result.append(t1[i1])\n",
    "                    i1 += 1\n",
    "                else:\n",
    "                    result.append(t2[i2])\n",
    "                    i2 += 1\n",
    "            else:\n",
    "                result.append(t1[i1])\n",
    "                i1 += 1\n",
    "\n",
    "        elif i2 < len2:\n",
    "            if i1 < len1:\n",
    "                if t2[i2] < t1[i1]:\n",
    "                    result.append(t2[i2])\n",
    "                    i2 += 1\n",
    "                else:\n",
    "                    result.append(t1[i1])\n",
    "                    i1 += 1\n",
    "            else:\n",
    "                result.append(t2[i2])\n",
    "                i2 += 1\n",
    "\n",
    "    return tuple(result)\n",
    "\n",
    "print(merge((1, 2, 3, 45, 233), (3, 4, 5, 235)))"
   ]
  }
 ],
 "metadata": {
  "kernelspec": {
   "display_name": "Python 3",
   "language": "python",
   "name": "python3"
  },
  "language_info": {
   "codemirror_mode": {
    "name": "ipython",
    "version": 3
   },
   "file_extension": ".py",
   "mimetype": "text/x-python",
   "name": "python",
   "nbconvert_exporter": "python",
   "pygments_lexer": "ipython3",
   "version": "3.11.3"
  },
  "orig_nbformat": 4
 },
 "nbformat": 4,
 "nbformat_minor": 2
}
