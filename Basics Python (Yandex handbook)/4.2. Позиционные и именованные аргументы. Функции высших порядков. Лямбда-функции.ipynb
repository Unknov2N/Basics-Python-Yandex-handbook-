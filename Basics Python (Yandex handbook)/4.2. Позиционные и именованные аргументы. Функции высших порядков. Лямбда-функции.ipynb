{
 "cells": [
  {
   "cell_type": "markdown",
   "metadata": {},
   "source": [
    "#### A. Генератор списков\n",
    "Большинство задач этой главы ориентировано на отработку навыков по разработке функций.\n",
    "\n",
    "Ваше решение будет использоваться как библиотека.\n",
    "\n",
    "Напишите функцию make_list, которая создаёт, заполняет и возвращает список заданного размера.\n",
    "\n",
    "Параметры функции:\n",
    "\n",
    "length — требуемая длина списка;\n",
    "value — значение элементов списка (по-умолчанию 0).\n",
    "Примечание\n",
    "Ваше решение должно содержать только функции.\n",
    "В решении не должно быть вызовов требуемых функций.\n",
    "\n",
    "Пример 1\n",
    "Ввод\n",
    "result = make_list(3)\n",
    "Вывод\n",
    "result = [0, 0, 0]\n",
    "Пример 2\n",
    "Ввод\n",
    "result = make_list(5, 1)\n",
    "Вывод\n",
    "result = [1, 1, 1, 1, 1]\n"
   ]
  },
  {
   "cell_type": "code",
   "execution_count": 4,
   "metadata": {},
   "outputs": [
    {
     "name": "stdout",
     "output_type": "stream",
     "text": [
      "[1, 1, 1, 1, 1]\n"
     ]
    }
   ],
   "source": [
    "def make_list(length, value=0):\n",
    "    return [value for i in range(length)]\n",
    "\n",
    "\n",
    "print(make_list(5, 1))\n"
   ]
  },
  {
   "cell_type": "markdown",
   "metadata": {},
   "source": [
    "#### B. Генератор матриц\n",
    "Напишите функцию make_matrix, которая создаёт, заполняет и возвращает матрицу заданного размера.\n",
    "\n",
    "Параметры функции:\n",
    "\n",
    "size — кортеж (ширина, высота) или одно число (для создания квадратной матрицы);\n",
    "value — значение элементов списка (по-умолчанию 0).\n",
    "Примечание\n",
    "Ваше решение должно содержать только функции.\n",
    "В решении не должно быть вызовов требуемых функций.\n",
    "\n",
    "Пример 1\n",
    "Ввод\n",
    "result = make_matrix(3)\n",
    "Вывод\n",
    "result = [\n",
    "    [0, 0, 0],\n",
    "    [0, 0, 0],\n",
    "    [0, 0, 0]\n",
    "]\n",
    "Пример 2\n",
    "Ввод\n",
    "result = make_matrix((4, 2), 1)\n",
    "Вывод\n",
    "result = [\n",
    "    [1, 1, 1, 1],\n",
    "    [1, 1, 1, 1]\n",
    "]\n"
   ]
  },
  {
   "cell_type": "code",
   "execution_count": 3,
   "metadata": {},
   "outputs": [
    {
     "name": "stdout",
     "output_type": "stream",
     "text": [
      "[[1, 1, 1, 1], [1, 1, 1, 1]]\n",
      "[[0, 0, 0], [0, 0, 0], [0, 0, 0]]\n"
     ]
    }
   ],
   "source": [
    "def make_matrix(size, value=0):\n",
    "    if type(size) == int:\n",
    "        return [[value for i in range(size)] for j in range(size)]\n",
    "    else:\n",
    "        return [[value for i in range(size[0])] for j in range(size[1])]\n",
    "\n",
    "\n",
    "print(make_matrix((4, 2), 1))\n",
    "print(make_matrix(3))"
   ]
  },
  {
   "cell_type": "markdown",
   "metadata": {},
   "source": [
    "#### C. Функциональный нод 2.0\n",
    "Напишите функцию gcd, которая вычисляет наибольший общий делитель последовательности чисел.\n",
    "Параметрами функции выступают натуральные числа в произвольном количестве, но не менее одного.\n",
    "\n",
    "Примечание\n",
    "Ваше решение должно содержать только функции.\n",
    "В решении не должно быть вызовов требуемых функций.\n",
    "\n",
    "Пример 1\n",
    "Ввод\n",
    "result = gcd(3)\n",
    "Вывод\n",
    "result =  3\n",
    "Пример 2\n",
    "Ввод\n",
    "result = gcd(36, 48, 156, 100500)\n",
    "Вывод\n",
    "result =  12\n"
   ]
  },
  {
   "cell_type": "code",
   "execution_count": 22,
   "metadata": {},
   "outputs": [
    {
     "name": "stdout",
     "output_type": "stream",
     "text": [
      "3\n",
      "12\n",
      "24\n",
      "24\n"
     ]
    }
   ],
   "source": [
    "def gcd(*args):\n",
    "    if len(args) == 1:\n",
    "        return args[0]\n",
    "\n",
    "    nods = set()\n",
    "    for j in range(len(args) - 1):\n",
    "        for i in range(1, len(args)):\n",
    "            a = args[i]\n",
    "            b = args[j]\n",
    "            while a % b:\n",
    "                c = a\n",
    "                a = b\n",
    "                b = c % b\n",
    "            nods.add(b)\n",
    "    return min(nods)\n",
    "\n",
    "\n",
    "print(gcd(3))\n",
    "print(gcd(36, 48, 156, 100500))\n",
    "print(gcd(48, 144, 360))\n",
    "print(gcd(48, 360, 144))\n"
   ]
  },
  {
   "cell_type": "markdown",
   "metadata": {},
   "source": [
    "#### D. Имя of the month 2.0\n",
    "Разработайте функцию month, которая возвращает название заданного месяца с заглавной буквы. Функция должна принимать номер месяца и дополнительно обозначение языка (по умолчанию \"ru\").\n",
    "\n",
    "Примечание\n",
    "Ваше решение должно содержать только функции.\n",
    "В решении не должно быть вызовов требуемых функций.\n",
    "\n",
    "Пример 1\n",
    "Ввод\n",
    "result = month(1, \"en\")\n",
    "Вывод\n",
    "result = 'January'\n",
    "Пример 2\n",
    "Ввод\n",
    "result = month(7)\n",
    "Вывод\n",
    "result = 'Июль'\n"
   ]
  },
  {
   "cell_type": "code",
   "execution_count": 24,
   "metadata": {},
   "outputs": [
    {
     "name": "stdout",
     "output_type": "stream",
     "text": [
      "Март\n",
      "Июль\n",
      "January\n",
      "Февраль\n"
     ]
    }
   ],
   "source": [
    "def month(month_num, lang='ru'):\n",
    "    months_ru = [\"Январь\", \"Февраль\", \"Март\", \"Апрель\", \"Май\", \"Июнь\",\n",
    "                 \"Июль\", \"Август\", \"Сентябрь\", \"Октябрь\", \"Ноябрь\", \"Декабрь\"]\n",
    "    months_en = [\"January\", \"February\", \"March\", \"April\", \"May\", \"June\",\n",
    "                 \"July\", \"August\", \"September\", \"October\", \"November\", \"December\"]\n",
    "\n",
    "    match lang:\n",
    "        case 'ru':\n",
    "            return months_ru[month_num - 1]\n",
    "        case 'en':\n",
    "            return months_en[month_num - 1]\n",
    "        \n",
    "\n",
    "print(month(3))\n",
    "print(month(7, \"ru\"))\n",
    "print(month(1, \"en\"))\n",
    "print(month(2))\n",
    "\n"
   ]
  },
  {
   "cell_type": "markdown",
   "metadata": {},
   "source": [
    "#### E. Подготовка данных\n",
    "Напишите функцию to_string, которая формирует из последовательности данных строку.\n",
    "Функция должна принимать:\n",
    "\n",
    "неопределённое количество данных;\n",
    "необязательный параметр sep (по умолчанию пробел);\n",
    "необязательный параметр end (по умолчанию \\n).\n",
    "Примечание\n",
    "Ваше решение должно содержать только функции.\n",
    "В решении не должно быть вызовов требуемых функций.\n",
    "\n",
    "Пример 1\n",
    "Ввод\n",
    "result = to_string(1, 2, 3)\n",
    "Вывод\n",
    "result = '1 2 3\\n'\n",
    "Пример 2\n",
    "Ввод\n",
    "data = [7, 3, 1, \"hello\", (1, 2, 3)]\n",
    "result = to_string(*data, sep=\", \", end=\"!\")\n",
    "Вывод\n",
    "result = '7, 3, 1, hello, (1, 2, 3)!'\n"
   ]
  },
  {
   "cell_type": "code",
   "execution_count": 26,
   "metadata": {},
   "outputs": [
    {
     "name": "stdout",
     "output_type": "stream",
     "text": [
      "1 2 3\n",
      "\n",
      "7, 3, 1, hello, (1, 2, 3)!\n"
     ]
    }
   ],
   "source": [
    "def to_string(*args, sep=' ', end='\\n'):\n",
    "    return sep.join([str(i) for i in args]) + end\n",
    "\n",
    "\n",
    "print(to_string(1, 2, 3))\n",
    "\n",
    "data = [7, 3, 1, \"hello\", (1, 2, 3)]\n",
    "print(to_string(*data, sep=\", \", end=\"!\"))\n"
   ]
  },
  {
   "cell_type": "markdown",
   "metadata": {},
   "source": [
    "#### F. Кофейня\n",
    "Руководство местной кофейни для программистов под названием Java-0x00 решило модернизировать систему заказа кофе.\n",
    "\n",
    "Для этого им требуется реализовать функцию order, которая принимает список предпочтений посетителя в порядке «убывания желания».\n",
    "\n",
    "Согласно положению, каждый напиток в кофейне строго определён рецептом:\n",
    "\n",
    "Эспрессо готовится из: 1 порции кофейных зерен.\n",
    "Капучино готовится из: 1 порции кофейных зерен и 3 порций молока.\n",
    "Макиато готовится из: 2 порций кофейных зерен и 1 порции молока.\n",
    "Кофе по-венски готовится из: 1 порции кофейных зерен и 2 порций взбитых сливок.\n",
    "Латте Макиато готовится из: 1 порции кофейных зерен, 2 порций молока и 1 порции взбитых сливок.\n",
    "Кон Панна готовится из: 1 порции кофейных зерен и 1 порции взбитых сливок.\n",
    "В глобальной переменной in_stock содержится словарь, описывающий ингредиенты в наличии. Ключи словаря: coffee, cream, milk.\n",
    "\n",
    "Функция должна вернуть:\n",
    "\n",
    "название напитка, который будет приготовлен;\n",
    "сообщение «К сожалению, не можем предложить Вам напиток», если ни одно из предпочтений не может быть приготовлено.\n",
    "Если заказ, может быть совершён, количество доступных ингредиентов должно соответствующим образом уменьшиться.\n",
    "\n",
    "Примечание\n",
    "В решении не должно быть вызовов требуемых функций.\n",
    "\n",
    "Пример 1\n",
    "Ввод\n",
    "in_stock = {\"coffee\": 1, \"milk\": 2, \"cream\": 3}\n",
    "print(order(\"Эспрессо\", \"Капучино\", \"Макиато\", \"Кофе по-венски\", \"Латте Макиато\", \"Кон Панна\"))\n",
    "print(order(\"Эспрессо\", \"Капучино\", \"Макиато\", \"Кофе по-венски\", \"Латте Макиато\", \"Кон Панна\"))\n",
    "Вывод\n",
    "Эспрессо\n",
    "К сожалению, не можем предложить Вам напиток\n",
    "Пример 2\n",
    "Ввод\n",
    "in_stock = {\"coffee\": 4, \"milk\": 4, \"cream\": 0}\n",
    "print(order(\"Капучино\", \"Макиато\", \"Эспрессо\"))\n",
    "print(order(\"Капучино\", \"Макиато\", \"Эспрессо\"))\n",
    "print(order(\"Капучино\", \"Макиато\", \"Эспрессо\"))\n",
    "Вывод\n",
    "Капучино\n",
    "Макиато\n",
    "Эспрессо\n"
   ]
  },
  {
   "cell_type": "code",
   "execution_count": 30,
   "metadata": {},
   "outputs": [
    {
     "name": "stdout",
     "output_type": "stream",
     "text": [
      "Капучино\n",
      "Макиато\n",
      "Эспрессо\n"
     ]
    }
   ],
   "source": [
    "def order(*args):\n",
    "    global in_stock\n",
    "\n",
    "    menu = {\"Эспрессо\": {\"coffee\": 1},\n",
    "            \"Капучино\": {\"coffee\": 1, \"milk\": 3},\n",
    "            \"Макиато\": {\"coffee\": 2, \"milk\": 1},\n",
    "            \"Кофе по-венски\": {\"coffee\": 1, \"cream\": 2},\n",
    "            \"Латте Макиато\": {\"coffee\": 1, \"milk\": 2, \"cream\": 1},\n",
    "            \"Кон Панна\": {\"coffee\": 1, \"cream\": 1}}\n",
    "\n",
    "    name_of_coffee = \"К сожалению, не можем предложить Вам напиток\"\n",
    "    for name in args:\n",
    "        available = True\n",
    "        for item, count in in_stock.items():\n",
    "            if menu[name].get(item, 0) > count:\n",
    "                available = False\n",
    "                break\n",
    "        if available:\n",
    "            name_of_coffee = name\n",
    "            for item, count in in_stock.items():\n",
    "                in_stock[item] -= menu[name].get(item, 0)\n",
    "            break\n",
    "\n",
    "    return name_of_coffee\n",
    "\n",
    "\n",
    "in_stock = {\"coffee\": 4, \"milk\": 4, \"cream\": 0}\n",
    "print(order(\"Капучино\", \"Макиато\", \"Эспрессо\"))\n",
    "print(order(\"Капучино\", \"Макиато\", \"Эспрессо\"))\n",
    "print(order(\"Капучино\", \"Макиато\", \"Эспрессо\"))\n"
   ]
  },
  {
   "cell_type": "markdown",
   "metadata": {},
   "source": [
    "#### G. В эфире рубрика «Эксперименты»\n",
    "Лаборанты проводят эксперимент и запросили разработку системы обработки данных. Результатами эксперимента должны стать пары рациональных чисел.\n",
    "\n",
    "Для работы им требуются функции:\n",
    "\n",
    "enter_results(first, second, ...) — добавление данных одного или нескольких результатов (гарантируется, что количество параметров будет чётным);\n",
    "get_sum() — возвращает пару сумм результатов экспериментов;\n",
    "get_average() — возвращает пару средних арифметических значений результатов экспериментов.\n",
    "Все вычисления производятся с точностью до сотых.\n",
    "\n",
    "Примечание\n",
    "В решении не должно быть вызовов требуемых функций.\n",
    "\n",
    "Пример 1\n",
    "Ввод\n",
    "enter_results(1, 2, 3, 4, 5, 6)\n",
    "print(get_sum(), get_average())\n",
    "enter_results(1, 2)\n",
    "print(get_sum(), get_average())\n",
    "Вывод\n",
    "(9, 12) (3.0, 4.0)\n",
    "(10, 14) (2.5, 3.5)\n",
    "Пример 2\n",
    "Ввод\n",
    "enter_results(3.5, 2.14, 45.2, 37.99)\n",
    "print(get_sum(), get_average())\n",
    "enter_results(5.2, 7.3)\n",
    "print(get_sum(), get_average())\n",
    "enter_results(1.23, 4.56, 3.14, 2.71, 0, 0)\n",
    "print(get_sum(), get_average())\n",
    "Вывод\n",
    "(48.7, 40.13) (24.35, 20.07)\n",
    "(53.9, 47.43) (17.97, 15.81)\n",
    "(58.27, 54.7) (9.71, 9.12)"
   ]
  },
  {
   "cell_type": "code",
   "execution_count": 42,
   "metadata": {},
   "outputs": [
    {
     "name": "stdout",
     "output_type": "stream",
     "text": [
      "(48.7, 40.13) (24.35, 20.07)\n",
      "(53.9, 47.43) (17.97, 15.81)\n",
      "(58.27, 54.7) (9.71, 9.12)\n"
     ]
    }
   ],
   "source": [
    "def enter_results(*args, values=[]):\n",
    "    values.extend(args)\n",
    "    return values\n",
    "\n",
    "\n",
    "def get_sum():\n",
    "    sum1, sum2 = 0, 0\n",
    "    values = enter_results()\n",
    "    values_tuple = [(values[i], values[i + 1]) for i in range(0, len(values), 2)]\n",
    "    for i, j in values_tuple:\n",
    "        sum1 += i\n",
    "        sum2 += j\n",
    "    return round(sum1, 2), round(sum2, 2)\n",
    "\n",
    "\n",
    "def get_average():\n",
    "    values = enter_results()\n",
    "    values_tuple = [(values[i], values[i + 1]) for i in range(0, len(values), 2)]\n",
    "    avg1, avg2 = 0, 0\n",
    "    for i, j in values_tuple:\n",
    "        avg1 += i\n",
    "        avg2 += j\n",
    "        \n",
    "    avg1 /= len(values) / 2    \n",
    "    avg2 /= len(values) / 2\n",
    "    return round(avg1, 2), round(avg2, 2)\n",
    "        \n",
    "\n",
    "enter_results(3.5, 2.14, 45.2, 37.99)\n",
    "print(get_sum(), get_average())\n",
    "enter_results(5.2, 7.3)\n",
    "print(get_sum(), get_average())\n",
    "enter_results(1.23, 4.56, 3.14, 2.71, 0, 0)\n",
    "print(get_sum(), get_average())\n",
    "\n"
   ]
  },
  {
   "cell_type": "markdown",
   "metadata": {},
   "source": [
    "#### H. Длинная сортировка\n",
    "Напишите lambda выражение для сортировки списка слов сначала по длине, а затем по алфавиту без учёта регистра.\n",
    "\n",
    "Примечание\n",
    "В решении не должно быть ничего, кроме выражения.\n",
    "\n",
    "Пример 1\n",
    "Ввод\n",
    "string = 'мама мыла раму'\n",
    "print(sorted(string.split(), key=<ваше выражение>))\n",
    "Вывод\n",
    "['мама', 'мыла', 'раму']\n",
    "Пример 2\n",
    "Ввод\n",
    "string = 'Яндекс использует Python во многих проектах'\n",
    "print(sorted(string.split(), key=<ваше выражение>))\n",
    "Вывод\n",
    "['во', 'Python', 'многих', 'Яндекс', 'проектах', 'использует']\n"
   ]
  },
  {
   "cell_type": "code",
   "execution_count": 43,
   "metadata": {},
   "outputs": [
    {
     "name": "stdout",
     "output_type": "stream",
     "text": [
      "['во', 'Python', 'многих', 'Яндекс', 'проектах', 'использует']\n"
     ]
    }
   ],
   "source": [
    "string = 'Яндекс использует Python во многих проектах'\n",
    "print(sorted(string.split(), key=lambda line: (len(line), line.lower())))   "
   ]
  },
  {
   "cell_type": "markdown",
   "metadata": {},
   "source": [
    "#### I. Чётная фильтрация\n",
    "Напишите lambda выражение для фильтрации чисел с чётной суммой цифр.\n",
    "\n",
    "Примечание\n",
    "В решении не должно быть ничего, кроме выражения.\n",
    "\n",
    "Пример 1\n",
    "Ввод\n",
    "print(*filter(<ваше выражение>, (1, 2, 3, 4, 5)))\n",
    "Вывод\n",
    "2 4\n",
    "Пример 2\n",
    "Ввод\n",
    "print(*filter(<ваше выражение>, (32, 64, 128, 256, 512)))\n",
    "Вывод\n",
    "64 512\n"
   ]
  },
  {
   "cell_type": "code",
   "execution_count": 44,
   "metadata": {},
   "outputs": [
    {
     "name": "stdout",
     "output_type": "stream",
     "text": [
      "64 512\n"
     ]
    }
   ],
   "source": [
    "print(*filter(lambda number: not sum([int(c) for c in str(number)]) % 2, (32, 64, 128, 256, 512)))\n"
   ]
  },
  {
   "cell_type": "markdown",
   "metadata": {},
   "source": [
    "#### J. Ключевой секрет\n",
    "Вася любит секреты и шифрование. Он часто пользуется шифром на основе замен и просит разработать вас функцию, которая позволит ему быстро шифровать сообщения.\n",
    "\n",
    "Напишите функцию secret_replace, которая принимает:\n",
    "\n",
    "текст требующий шифрования;\n",
    "именованные аргументы — правила замен, представляющие собой кортежи из одного или нескольких значений.\n",
    "Функция должна вернуть зашифрованный текст.\n",
    "\n",
    "Примечание\n",
    "Ваше решение должно содержать только функции.\n",
    "В решении не должно быть вызовов требуемых функций.\n",
    "\n",
    "Пример 1\n",
    "Ввод\n",
    "result = secret_replace(\"Hello, world!\", l=(\"hi\", \"y\"), o=(\"123\", \"z\"))\n",
    "Вывод\n",
    "result = 'Hehiy123, wzrhid!'\n",
    "Пример 2\n",
    "Ввод\n",
    "result = secret_replace(\n",
    "    \"ABRA-KADABRA\",\n",
    "    A=(\"Z\", \"1\", \"!\"),\n",
    "    B=(\"3\",),\n",
    "    R=(\"X\", \"7\"),\n",
    "    K=(\"G\", \"H\"),\n",
    "    D=(\"0\", \"2\"),\n",
    ")\n",
    "Вывод\n",
    "result = 'Z3X1-G!0Z371'\n"
   ]
  },
  {
   "cell_type": "code",
   "execution_count": 2,
   "metadata": {},
   "outputs": [
    {
     "name": "stdout",
     "output_type": "stream",
     "text": [
      "Z3X1-G!0Z371\n"
     ]
    }
   ],
   "source": [
    "def secret_replace(text, **values):\n",
    "    iterators = values.copy()\n",
    "    for i in iterators:\n",
    "        iterators[i] = 0\n",
    "\n",
    "    new_text = ''\n",
    "    for c in text:\n",
    "        if c in values:\n",
    "            new_text += values[c][iterators[c] % len(values[c])]\n",
    "            iterators[c] += 1\n",
    "        else:\n",
    "            new_text += c\n",
    "    return new_text\n",
    "\n",
    "\n",
    "print(secret_replace(\n",
    "    \"ABRA-KADABRA\",\n",
    "    A=(\"Z\", \"1\", \"!\"),\n",
    "    B=(\"3\",),\n",
    "    R=(\"X\", \"7\"),\n",
    "    K=(\"G\", \"H\"),\n",
    "    D=(\"0\", \"2\"),\n",
    "))"
   ]
  }
 ],
 "metadata": {
  "kernelspec": {
   "display_name": "Python 3",
   "language": "python",
   "name": "python3"
  },
  "language_info": {
   "codemirror_mode": {
    "name": "ipython",
    "version": 3
   },
   "file_extension": ".py",
   "mimetype": "text/x-python",
   "name": "python",
   "nbconvert_exporter": "python",
   "pygments_lexer": "ipython3",
   "version": "3.11.3"
  },
  "orig_nbformat": 4
 },
 "nbformat": 4,
 "nbformat_minor": 2
}
