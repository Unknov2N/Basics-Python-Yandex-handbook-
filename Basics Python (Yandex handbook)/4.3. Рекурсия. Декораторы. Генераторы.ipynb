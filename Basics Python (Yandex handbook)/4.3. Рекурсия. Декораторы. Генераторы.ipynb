{
 "cells": [
  {
   "cell_type": "markdown",
   "metadata": {},
   "source": [
    "#### A. Рекурсивный сумматор\n",
    "Большинство задач этой главы ориентировано на отработку навыков по разработке рекурсивных функций.\n",
    "\n",
    "Ваше решение будет использоваться как библиотека.\n",
    "\n",
    "Напишите функцию recursive_sum, которая находит сумму всех позиционных аргументов.\n",
    "\n",
    "Примечание\n",
    "Ваше решение должно содержать только функции.\n",
    "В решении не должно быть вызовов требуемых функций, за исключением рекурсивных.\n",
    "Трассировка вызова рекурсивной функции в обработке ответа не учитывается и показан для примера.\n",
    "\n",
    "Пример 1\n",
    "Ввод\n",
    "result = recursive_sum(1, 2, 3)\n",
    "Вывод\n",
    "# Вызов recursive_sum(1, 2, 3)\n",
    "# Вызов recursive_sum(1, 2)\n",
    "# Вызов recursive_sum(1)\n",
    "# Вызов recursive_sum()\n",
    "result = 6\n",
    "Пример 2\n",
    "Ввод\n",
    "result = recursive_sum(7, 1, 3, 2, 10)\n",
    "Вывод\n",
    "# Вызов recursive_sum(7, 1, 3, 2, 10)\n",
    "# Вызов recursive_sum(7, 1, 3, 2)\n",
    "# Вызов recursive_sum(7, 1, 3)\n",
    "# Вызов recursive_sum(7, 1)\n",
    "# Вызов recursive_sum(7)\n",
    "# Вызов recursive_sum()\n",
    "result = 23\n"
   ]
  },
  {
   "cell_type": "code",
   "execution_count": 3,
   "metadata": {},
   "outputs": [
    {
     "name": "stdout",
     "output_type": "stream",
     "text": [
      "23\n"
     ]
    }
   ],
   "source": [
    "def recursive_sum(*args):\n",
    "    i = len(args) - 1\n",
    "    if i == 0:\n",
    "        return args[i]\n",
    "    return recursive_sum(*args[:i]) + args[i]\n",
    "\n",
    "\n",
    "print(recursive_sum(7, 1, 3, 2, 10))\n"
   ]
  },
  {
   "cell_type": "markdown",
   "metadata": {},
   "source": [
    "#### B. Рекурсивный сумматор цифр\n",
    "Рекурсия – отличный способ избавиться от циклов, особенно от while. Давайте вспомним одну из наших старых задач и модернизируем её.\n",
    "\n",
    "Напишите функцию recursive_digit_sum, которая находит сумму всех цифр натурального числа.\n",
    "\n",
    "Примечание\n",
    "Ваше решение должно содержать только функции.\n",
    "В решении не должно быть вызовов требуемых функций, за исключением рекурсивных.\n",
    "Трассировка вызова рекурсивной функции в обработке ответа не учитывается и показан для примера.\n",
    "\n",
    "Пример 1\n",
    "Ввод\n",
    "result = recursive_digit_sum(123)\n",
    "Вывод\n",
    "# Вызов recursive_digit_sum(123)\n",
    "# Вызов recursive_digit_sum(12)\n",
    "# Вызов recursive_digit_sum(1)\n",
    "# Вызов recursive_digit_sum(0)\n",
    "result = 6\n",
    "Пример 2\n",
    "Ввод\n",
    "result = recursive_digit_sum(7321346)\n",
    "Вывод\n",
    "# Вызов recursive_digit_sum(7321346)\n",
    "# Вызов recursive_digit_sum(732134)\n",
    "# Вызов recursive_digit_sum(73213)\n",
    "# Вызов recursive_digit_sum(7321)\n",
    "# Вызов recursive_digit_sum(732)\n",
    "# Вызов recursive_digit_sum(73)\n",
    "# Вызов recursive_digit_sum(7)\n",
    "# Вызов recursive_digit_sum(0)\n",
    "result = 26\n"
   ]
  },
  {
   "cell_type": "code",
   "execution_count": 43,
   "metadata": {},
   "outputs": [
    {
     "name": "stdout",
     "output_type": "stream",
     "text": [
      "0.46259539999300614 66 1400014\n"
     ]
    }
   ],
   "source": [
    "from timeit import timeit\n",
    "\n",
    "\n",
    "def recursive_digit_sum(num):\n",
    "    global count\n",
    "    count += 1\n",
    "    if num == 0:\n",
    "        return num\n",
    "    return num % 10 + recursive_digit_sum(num // 10)\n",
    "\n",
    "\n",
    "count = 0\n",
    "num = 6635664563466\n",
    "print(timeit('recursive_digit_sum(num)', number=100000, globals=globals()), recursive_digit_sum(num), count)"
   ]
  },
  {
   "cell_type": "markdown",
   "metadata": {},
   "source": [
    "#### C. Многочлен N-ой степени\n",
    "Напишите функцию make_equation, которая по заданным коэффициентам строит строку, описывающую валидное с точки зрения Python выражение без использования оператора возведения в степень.\n",
    "\n",
    "Многочлен второй степени с коэффициентами \n",
    "a, \n",
    "b и \n",
    "c, например, можно записать в виде:\n",
    "(\n",
    "(\n",
    ")\n",
    "∗\n",
    "+\n",
    ")\n",
    "∗\n",
    "+\n",
    "((a)∗x+b)∗x+c\n",
    "\n",
    "Примечание\n",
    "Ваше решение должно содержать только функции.\n",
    "В решении не должно быть вызовов требуемых функций, за исключением рекурсивных.\n",
    "Трассировка вызова рекурсивной функции в обработке ответа не учитывается и показан для примера.\n",
    "\n",
    "Пример 1\n",
    "Ввод\n",
    "result = make_equation(3, 2, 1)\n",
    "Вывод\n",
    "# Вызов make_equation(3, 2, 1)\n",
    "# Вызов make_equation(3, 2)\n",
    "# Вызов make_equation(3)\n",
    "result = '((3) * x + 2) * x + 1'\n",
    "Пример 2\n",
    "Ввод\n",
    "result = make_equation(3, 1, 5, 3)\n",
    "Вывод\n",
    "# Вызов make_equation(3, 1, 5, 3)\n",
    "# Вызов make_equation(3, 1, 5)\n",
    "# Вызов make_equation(3, 1)\n",
    "# Вызов make_equation(3)\n",
    "result = '(((3) * x + 1) * x + 5) * x + 3'\n"
   ]
  },
  {
   "cell_type": "code",
   "execution_count": 66,
   "metadata": {},
   "outputs": [
    {
     "name": "stdout",
     "output_type": "stream",
     "text": [
      "1\n",
      "(1) * x + 2\n",
      "((1) * x + 2) * x + 3\n",
      "(((1) * x + 2) * x + 3) * x + 4\n",
      "((((1) * x + 2) * x + 3) * x + 4) * x + 5\n"
     ]
    }
   ],
   "source": [
    "def make_equation(*coefficients):\n",
    "    i = len(coefficients) - 1\n",
    "    if i == 0:\n",
    "        return f'{coefficients[i]}'\n",
    "    return f'({make_equation(*coefficients[:i])}) * x + {coefficients[i]}'\n",
    "\n",
    "\n",
    "print(make_equation(1))\n",
    "print(make_equation(1, 2))\n",
    "print(make_equation(1, 2, 3))\n",
    "print(make_equation(1, 2, 3, 4))\n",
    "print(make_equation(1, 2, 3, 4, 5))\n"
   ]
  },
  {
   "cell_type": "markdown",
   "metadata": {},
   "source": [
    "#### D. Декор результата\n",
    "Напишите декоратор answer, который преобразует функцию, принимающую неограниченное число позиционных и именованных параметров и возвращает её результат с припиской \"Результат функции: <значение>\".\n",
    "\n",
    "Примечание\n",
    "Ваше решение должно содержать только функции.\n",
    "В решении не должно быть вызовов требуемых функций.\n",
    "\n",
    "Пример 1\n",
    "Ввод\n",
    "@answer\n",
    "def a_plus_b(a, b):\n",
    "    return a + b\n",
    "\n",
    "\n",
    "print(a_plus_b(3, 5))\n",
    "print(a_plus_b(7, 9))\n",
    "Вывод\n",
    "Результат функции: 8\n",
    "Результат функции: 16\n",
    "Пример 2\n",
    "Ввод\n",
    "@answer\n",
    "def get_letters(text: str) -> str:\n",
    "    return ''.join(sorted(set(filter(str.isalpha, text.lower()))))\n",
    "\n",
    "\n",
    "print(get_letters('Hello, world!'))\n",
    "print(get_letters('Декораторы это круто =)'))\n",
    "Вывод\n",
    "Результат функции: dehlorw\n",
    "Результат функции: адекортуыэ\n"
   ]
  },
  {
   "cell_type": "code",
   "execution_count": 52,
   "metadata": {},
   "outputs": [
    {
     "name": "stdout",
     "output_type": "stream",
     "text": [
      "Результат функции: dehlorw\n",
      "Результат функции: адекортуыэ\n"
     ]
    }
   ],
   "source": [
    "def answer(f):\n",
    "    def decorated(*args, **kwargs):\n",
    "        return f\"Результат функции: {f(*args, **kwargs)}\"\n",
    "    return decorated\n",
    "\n",
    "\n",
    "@answer\n",
    "def get_letters(text: str) -> str:\n",
    "    return ''.join(sorted(set(filter(str.isalpha, text.lower()))))\n",
    "\n",
    "\n",
    "print(get_letters('Hello, world!'))\n",
    "print(get_letters('Декораторы это круто =)'))"
   ]
  },
  {
   "cell_type": "markdown",
   "metadata": {},
   "source": [
    "#### E. Накопление результата\n",
    "В некоторых случаях полезно накапливать результат, а затем получать его единым списком.\n",
    "\n",
    "Реализуйте декоратор result_accumulator, который модернизирует функцию с неопределенным количеством позиционных параметров следующим образом:\n",
    "\n",
    "Добавляет именованный параметр method со значением по умолчанию accumulate;\n",
    "При вызове функции с параметром method равным accumulate, результат сохраняется в очередь (для каждой функции в собственную), а функция ничего не возвращает;\n",
    "При вызове функции с параметром method равным drop, возвращается все накопленные результаты, а очередь сбрасывается.\n",
    "Примечание\n",
    "Ваше решение должно содержать только функции.\n",
    "В решении не должно быть вызовов требуемых функций.\n",
    "\n",
    "Пример 1\n",
    "Ввод\n",
    "@result_accumulator\n",
    "def a_plus_b(a, b):\n",
    "    return a + b\n",
    "\n",
    "\n",
    "print(a_plus_b(3, 5, method=\"accumulate\"))\n",
    "print(a_plus_b(7, 9))\n",
    "print(a_plus_b(-3, 5, method=\"drop\"))\n",
    "print(a_plus_b(1, -7))\n",
    "print(a_plus_b(10, 35, method=\"drop\"))\n",
    "Вывод\n",
    "None\n",
    "None\n",
    "[8, 16, 2]\n",
    "None\n",
    "[-6, 45]\n",
    "Пример 2\n",
    "Ввод\n",
    "@result_accumulator\n",
    "def get_letters(text: str) -> str:\n",
    "    return ''.join(sorted(set(filter(str.isalpha, text.lower()))))\n",
    "\n",
    "\n",
    "print(get_letters('Hello, world!'))\n",
    "print(get_letters('Декораторы это круто =)'))\n",
    "print(get_letters('Ехали медведи на велосипеде', method='drop'))\n",
    "Вывод\n",
    "None\n",
    "None\n",
    "['dehlorw', 'адекортуыэ', 'авдеилмнопсх']\n"
   ]
  },
  {
   "cell_type": "code",
   "execution_count": 57,
   "metadata": {},
   "outputs": [
    {
     "name": "stdout",
     "output_type": "stream",
     "text": [
      "None\n",
      "None\n",
      "[8, 16, 2]\n",
      "None\n",
      "None\n",
      "[-6, 45]\n",
      "None\n",
      "['dehlorw', 'адекортуыэ', 'авдеилмнопсх']\n"
     ]
    }
   ],
   "source": [
    "def result_accumulator(f):\n",
    "    queue = []\n",
    "\n",
    "    def decorated(*args, method='accumulate'):\n",
    "        nonlocal queue\n",
    "        queue.append(f(*args))\n",
    "\n",
    "        if method == 'drop':\n",
    "            queue_temp = queue\n",
    "            queue = []\n",
    "            return queue_temp\n",
    "\n",
    "    return decorated\n",
    "\n",
    "\n",
    "@result_accumulator\n",
    "def a_plus_b(a, b):\n",
    "    return a + b\n",
    "\n",
    "\n",
    "@result_accumulator\n",
    "def get_letters(text: str) -> str:\n",
    "    return ''.join(sorted(set(filter(str.isalpha, text.lower()))))\n",
    "\n",
    "\n",
    "print(a_plus_b(3, 5, method=\"accumulate\"))\n",
    "print(a_plus_b(7, 9))\n",
    "print(a_plus_b(-3, 5, method=\"drop\"))\n",
    "print(a_plus_b(1, -7))\n",
    "print(get_letters('Hello, world!'))\n",
    "print(a_plus_b(10, 35, method=\"drop\"))\n",
    "print(get_letters('Декораторы это круто =)'))\n",
    "print(get_letters('Ехали медведи на велосипеде', method='drop'))"
   ]
  },
  {
   "cell_type": "markdown",
   "metadata": {},
   "source": [
    "#### F. Сортировка слиянием\n",
    "Мы уже реализовывали функцию merge, которая способна \"слить\" два отсортированных списка в один.\n",
    "Чаще всего её применяют в рекурсивном алгоритме сортировки слиянием.\n",
    "\n",
    "Напишите рекурсивную функцию merge_sort, которая производит сортировку списка.\n",
    "\n",
    "Примечание\n",
    "Ваше решение должно содержать только функции.\n",
    "В решении не должно быть вызовов требуемых функций, за исключением рекурсивных.\n",
    "Трассировка вызова рекурсивной функции в обработке ответа не учитывается и показан для примера.\n",
    "\n",
    "Пример 1\n",
    "Ввод\n",
    "result = merge_sort([3, 2, 1])\n",
    "Вывод\n",
    "# Вызов merge_sort([3, 2, 1])\n",
    "# Вызов merge_sort([3])\n",
    "# Вызов merge_sort([2, 1])\n",
    "# Вызов merge_sort([2])\n",
    "# Вызов merge_sort([1])\n",
    "result = [1, 2, 3]\n",
    "Пример 2\n",
    "Ввод\n",
    "result = merge_sort([3, 1, 5, 3])\n",
    "Вывод\n",
    "# Вызов merge_sort([3, 1, 5, 3])\n",
    "# Вызов merge_sort([3, 1])\n",
    "# Вызов merge_sort([3])\n",
    "# Вызов merge_sort([1])\n",
    "# Вызов merge_sort([5, 3])\n",
    "# Вызов merge_sort([5])\n",
    "# Вызов merge_sort([3])\n",
    "result = [1, 3, 3, 5]\n"
   ]
  },
  {
   "cell_type": "code",
   "execution_count": 68,
   "metadata": {},
   "outputs": [
    {
     "name": "stdout",
     "output_type": "stream",
     "text": [
      "[1, 3, 3, 5]\n",
      "[1, 1, 1, 2, 3, 3, 3, 4, 5, 5, 6, 7, 8]\n"
     ]
    }
   ],
   "source": [
    "def merge_sort(numbers):\n",
    "    def merge(nums1, nums2):\n",
    "        nums = []\n",
    "        len1 = len(nums1)\n",
    "        len2 = len(nums2)\n",
    "        i, j = 0, 0\n",
    "        while i < len1 and j < len2:\n",
    "            if nums1[i] < nums2[j]:\n",
    "                nums.append(nums1[i])\n",
    "                i += 1\n",
    "            else:\n",
    "                nums.append(nums2[j])\n",
    "                j += 1\n",
    "        else:\n",
    "            if i == len1:\n",
    "                nums.extend(nums2[j:])\n",
    "                return nums\n",
    "            else:\n",
    "                nums.extend(nums1[i:])\n",
    "                return nums\n",
    "\n",
    "    i = len(numbers)\n",
    "    if i == 1:\n",
    "        return numbers\n",
    "    else:\n",
    "        center = i // 2\n",
    "        return merge(merge_sort(numbers[:center]), merge_sort(numbers[center:]))\n",
    "\n",
    "\n",
    "print(merge_sort([3, 1, 5, 3]))\n",
    "print(merge_sort([3, 1, 5, 3, 6, 1, 2, 8, 5, 4, 7, 3, 1]))\n"
   ]
  },
  {
   "cell_type": "markdown",
   "metadata": {},
   "source": [
    "#### G. Однотипность не порок\n",
    "Во многих задачах требуется контроль входных данных, в частности, несмотря на динамическую типизацию, их типов.\n",
    "\n",
    "Разработайте декоратор same_type, который производит проверку переменного количества позиционных параметров. В случае получения не одинаковых типов выводит сообщение \"Обнаружены различные типы данных\" и прерывает выполнение функции.\n",
    "\n",
    "Примечание\n",
    "Ваше решение должно содержать только функции.\n",
    "В решении не должно быть вызовов требуемых функций.\n",
    "\n",
    "Пример 1\n",
    "Ввод\n",
    "@same_type\n",
    "def a_plus_b(a, b):\n",
    "    return a + b\n",
    "\n",
    "\n",
    "print(a_plus_b(3, 5.2) or 'Fail')\n",
    "print(a_plus_b(7, '9') or 'Fail')\n",
    "print(a_plus_b(-3, 5) or 'Fail')\n",
    "Вывод\n",
    "Обнаружены различные типы данных\n",
    "Fail\n",
    "Обнаружены различные типы данных\n",
    "Fail\n",
    "2\n",
    "Пример 2\n",
    "Ввод\n",
    "@same_type\n",
    "def combine_text(*words):\n",
    "    return ' '.join(words)\n",
    "\n",
    "\n",
    "print(combine_text('Hello,', 'world!') or 'Fail')\n",
    "print(combine_text(2, '+', 2, '=', 4) or 'Fail')\n",
    "print(combine_text('Список из 30', 0, 'можно получить так', [0] * 30) or 'Fail')\n",
    "Вывод\n",
    "Hello, world!\n",
    "Обнаружены различные типы данных\n",
    "Fail\n",
    "Обнаружены различные типы данных\n",
    "Fail\n"
   ]
  },
  {
   "cell_type": "code",
   "execution_count": 70,
   "metadata": {},
   "outputs": [
    {
     "name": "stdout",
     "output_type": "stream",
     "text": [
      "Обнаружены различные типы данных\n",
      "Fail\n",
      "Обнаружены различные типы данных\n",
      "Fail\n",
      "2\n",
      "\n",
      "Hello, world!\n",
      "Обнаружены различные типы данных\n",
      "Fail\n",
      "Обнаружены различные типы данных\n",
      "Fail\n"
     ]
    }
   ],
   "source": [
    "def same_type(f):\n",
    "    def decorated(*args):\n",
    "        type_is = type(args[0])\n",
    "        for i in args:\n",
    "            if type(i) is not type_is:\n",
    "                print('Обнаружены различные типы данных')\n",
    "                return False\n",
    "        return f(*args)\n",
    "    return decorated\n",
    "\n",
    "\n",
    "@same_type\n",
    "def a_plus_b(a, b):\n",
    "    return a + b\n",
    "\n",
    "\n",
    "print(a_plus_b(3, 5.2) or 'Fail')\n",
    "print(a_plus_b(7, '9') or 'Fail')\n",
    "print(a_plus_b(-3, 5) or 'Fail')\n",
    "print()\n",
    "\n",
    "@same_type\n",
    "def combine_text(*words):\n",
    "    return ' '.join(words)\n",
    "\n",
    "\n",
    "print(combine_text('Hello,', 'world!') or 'Fail')\n",
    "print(combine_text(2, '+', 2, '=', 4) or 'Fail')\n",
    "print(combine_text('Список из 30', 0, 'можно получить так', [0] * 30) or 'Fail')"
   ]
  },
  {
   "cell_type": "markdown",
   "metadata": {},
   "source": [
    "#### H. Генератор Фибоначчи\n",
    "Числа Фибоначчи весьма интересная последовательность и используется в различных математических задачах. В ней каждый следующий элемент равен сумме двух предыдущих. Математики начинают эту последовательность с двух единиц, но мы же с вами программисты, поэтому привыкли вести счет с нуля.\n",
    "\n",
    "Напишите генератор fibonacci, который последовательно возвращает заданное количество чисел Фибоначчи по \"правилам программистов\".\n",
    "\n",
    "Примечание\n",
    "Ваше решение должно содержать только функции.\n",
    "В решении не должно быть вызовов требуемых функций.\n",
    "\n",
    "Пример 1\n",
    "Ввод\n",
    "print(*fibonacci(5))\n",
    "Вывод\n",
    "0 1 1 2 3\n",
    "Пример 2\n",
    "Ввод\n",
    "print(*fibonacci(10), sep=', ')\n",
    "Вывод\n",
    "0, 1, 1, 2, 3, 5, 8, 13, 21, 34\n"
   ]
  },
  {
   "cell_type": "code",
   "execution_count": 71,
   "metadata": {},
   "outputs": [
    {
     "name": "stdout",
     "output_type": "stream",
     "text": [
      "0, 1, 1, 2, 3, 5, 8, 13, 21, 34\n"
     ]
    }
   ],
   "source": [
    "def fibonacci(n):\n",
    "    n0, n1 = 0, 1\n",
    "    for i in range(n):\n",
    "        yield n0\n",
    "        n0, n1 = n1, n0 + n1\n",
    "\n",
    "\n",
    "print(*fibonacci(10), sep=', ')\n"
   ]
  },
  {
   "cell_type": "markdown",
   "metadata": {},
   "source": [
    "#### I. Циклический генератор\n",
    "Напишите генератор cycle, который принимает список и работает аналогично итератору itertools.cycle.\n",
    "\n",
    "Примечание\n",
    "Ваше решение должно содержать только функции.\n",
    "В решении не должно быть вызовов требуемых функций.\n",
    "\n",
    "Пример 1\n",
    "Ввод\n",
    "print(*(x for _, x in zip(range(5), cycle([1, 2, 3]))))\n",
    "Вывод\n",
    "1 2 3 1 2\n",
    "Пример 2\n",
    "Ввод\n",
    "print(*(x for _, x in zip(range(15), cycle([1, 2, 3, 4]))))\n",
    "Вывод\n",
    "1 2 3 4 1 2 3 4 1 2 3 4 1 2 3\n"
   ]
  },
  {
   "cell_type": "code",
   "execution_count": 73,
   "metadata": {},
   "outputs": [
    {
     "name": "stdout",
     "output_type": "stream",
     "text": [
      "1 2 3 4 1 2 3 4 1 2 3 4 1 2 3\n"
     ]
    }
   ],
   "source": [
    "def cycle(items):\n",
    "    i = 0\n",
    "    length = len(items)\n",
    "    while True:\n",
    "        yield items[i % length]\n",
    "        i += 1\n",
    "\n",
    "\n",
    "print(*(x for _, x in zip(range(15), cycle([1, 2, 3, 4]))))"
   ]
  },
  {
   "cell_type": "markdown",
   "metadata": {},
   "source": [
    "#### J. \"Выпрямление\" списка\n",
    "Весьма часто, данные, которые мы получаем из различных источников, не удовлетворяют нашим пожеланиям. Одна из частых проблем – излишняя вложенность списков.\n",
    "\n",
    "Напишите функцию make_linear, которая принимает список списков и возвращает его \"выпрямленное\" представление.\n",
    "\n",
    "Примечание\n",
    "Ваше решение должно содержать только функции.\n",
    "В решении не должно быть вызовов требуемых функций, за исключением рекурсивных.\n",
    "Трассировка вызова рекурсивной функции в обработке ответа не учитывается и показан для примера.\n",
    "\n",
    "Пример 1\n",
    "Ввод\n",
    "result = make_linear([1, 2, [3]])\n",
    "Вывод\n",
    "# Вызов make_linear([1, 2, [3]])\n",
    "# Вызов make_linear([3])\n",
    "result = [1, 2, 3]\n",
    "Пример 2\n",
    "Ввод\n",
    "result = make_linear([1, [2, [3, 4]], 5, 6])\n",
    "Вывод\n",
    "# Вызов make_linear([1, [2, [3, 4]], 5, 6])\n",
    "# Вызов make_linear([2, [3, 4]])\n",
    "# Вызов make_linear([3, 4])\n",
    "result = [1, 2, 3, 4, 5, 6]"
   ]
  },
  {
   "cell_type": "code",
   "execution_count": 74,
   "metadata": {},
   "outputs": [
    {
     "name": "stdout",
     "output_type": "stream",
     "text": [
      "[1, 2, 3]\n",
      "[1, 2, 3, 4, 5, 6]\n"
     ]
    }
   ],
   "source": [
    "def make_linear(items):\n",
    "    linear_list = []\n",
    "    for item in items:\n",
    "        if type(item) == list:\n",
    "            linear_list.extend(make_linear(item))\n",
    "        else:\n",
    "            linear_list.append(item)\n",
    "    return linear_list\n",
    "\n",
    "\n",
    "print(make_linear([1, 2, [3]]))\n",
    "print(make_linear([1, [2, [3, 4]], 5, 6]))\n"
   ]
  }
 ],
 "metadata": {
  "kernelspec": {
   "display_name": "Python 3",
   "language": "python",
   "name": "python3"
  },
  "language_info": {
   "codemirror_mode": {
    "name": "ipython",
    "version": 3
   },
   "file_extension": ".py",
   "mimetype": "text/x-python",
   "name": "python",
   "nbconvert_exporter": "python",
   "pygments_lexer": "ipython3",
   "version": "3.11.3"
  },
  "orig_nbformat": 4
 },
 "nbformat": 4,
 "nbformat_minor": 2
}
