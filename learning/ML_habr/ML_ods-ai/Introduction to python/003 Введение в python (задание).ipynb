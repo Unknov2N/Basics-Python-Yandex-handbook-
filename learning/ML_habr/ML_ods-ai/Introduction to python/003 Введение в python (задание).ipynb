{
 "cells": [
  {
   "cell_type": "markdown",
   "metadata": {},
   "source": [
    "Написать код, который вычисляет сумму всех чисел, удовлетворяющих следующие условия:  \n",
    "\n",
    "положительные целые числа от 1 до 1_000_000_002 (один миллиард два) включительно  \n",
    "которые нацело (без остатка) делятся на 3 (пример: 3, 6, 9, ...)  \n",
    "и которые не заканчиваются на 4 и 7 (пример заканчивающихся на 4 и 7: 24, 27, 54, 57 ...)  \n",
    "Результат суммы ввести в поле ниже.  \n",
    "В поле нужно ввести только число, являющееся ответом, без пробелов и других символов.  \n",
    "\n"
   ]
  },
  {
   "cell_type": "code",
   "execution_count": 35,
   "metadata": {},
   "outputs": [
    {
     "data": {
      "text/plain": [
       "133333334466666672"
      ]
     },
     "execution_count": 35,
     "metadata": {},
     "output_type": "execute_result"
    }
   ],
   "source": [
    "summa = 0\n",
    "#for i in range(3, 1_000_000_003, 3):\n",
    "#    if not (i % 10 == 7 or i % 10 == 4):\n",
    "#        summa += i\n",
    "#print(summa)\n",
    "sum(range(3, 1_000_000_003, 3)) - sum(range(24, 1_000_000_003, 30)) - sum(range(27, 1_000_000_003, 30))"
   ]
  },
  {
   "cell_type": "markdown",
   "metadata": {},
   "source": [
    "На вход поступает текстовый файл из 3-х тысяч строк\n",
    "\n",
    "Формат файла:\n",
    "    \"арифметическая операция\"    \"целое число #1\"    \"целое число #2\"\n",
    "Разделитель - 4 пробела\n",
    "\n",
    "\n",
    "Нужно подготовить текстовый файл из 1 строки.\n",
    "Строка содержит набор из 3-х тысяч чисел, разделенных запятой. \n",
    "После последнего числа запятая не ставится.\n",
    "каждое число - результат операции: \n",
    "    \"результирующее целое число\" = \"целое число #1\" применить \"арифметическая операция\" \"целое число #2\"\n",
    "\n",
    "Пример входного файла:\n",
    "\n",
    "+    5    4\n",
    "-    -10449    -7623\n",
    "**    2    10\n",
    "\n",
    "Пример выходного файла (для примера входного файла выше):\n",
    "\n",
    "9,-2826,1024\n",
    "    \n",
    "Допустимые операции:\n",
    "\n",
    "+ (сложение)\n",
    "- (вычитание)\n",
    "* (умножение)\n",
    "// (целочисленное деление) (для этой операции подаются только положительные числа)\n",
    "% (остаток от деления) (для этой операции подаются только положительные числа)\n",
    "** (возведение в степень) (для этой операции подаются только положительные числа)\n",
    "    \n",
    "Входные числа - только целые.\n",
    "Выходные числа - только целые.\n",
    "\n"
   ]
  },
  {
   "cell_type": "code",
   "execution_count": 14,
   "metadata": {},
   "outputs": [],
   "source": [
    "# with open('test_input_file_1.txt', 'r') as f_input, open('test_output_file_1_.txt', 'w') as f_output:\n",
    "with open('input_file.txt', 'r') as f_input, open('output_file.txt', 'w') as f_output:\n",
    "    for line in f_input:\n",
    "        data = line.rstrip('\\n').split()\n",
    "        data = data[1] + ' ' + data[0] + ' ' + data[2]\n",
    "        f_output.write(f'{eval(data)},')\n",
    "    "
   ]
  },
  {
   "cell_type": "markdown",
   "metadata": {},
   "source": [
    "На вход поступает два текстовый файл из 3-х тысяч строк каждый.\n",
    "\n",
    "Первый файл содержит строки текста.   \n",
    " \n",
    "Второй файл содержит строки из двух целых неотрицательных чисел.\n",
    "Первое число в строке всегда меньше или равно второму.\n",
    "Числа всегда меньше длины соответствующей строки первого файла.\n",
    "Соответствующей - это значит 1-ая строка из 1-го файла соответствует 1-ой строке из 2-го файла, а 123-я строка из 1-го файла соответствует 123-ей строке из 2-го файла.\n",
    " \n",
    "Подготовить выходной файл, который состоит из подстрок 1-го входного файла.\n",
    "Подстроки разделены пробелами.\n",
    "Какие брать подстроки - написано во втором файле.\n",
    "В конце файла пробела нет.\n",
    "Например:\n",
    "\n",
    "    120 строка в 1-ом файле: JBOljrfkrfjgikenfjerkrkvkfKUGlknc\n",
    "    120 строка во 2-ом файле: 13 27\n",
    "Это значит 120 подстрока в результирующем файле это символы с 13 по 27, включая 13-ый и 27-ой символы.\n",
    "Не забывайте, что нумерация символов в строке с 0.\n",
    "Пример требуемой подстроки: kenfjerkrkvkfKU\n",
    "\n",
    "Пример 1-го входного файла:\n",
    "QxBpXEeyDWHiuTttWjhFMGTlrCMqpSvrNOQoxUbyiZombbLaYqBHvydPJlvdspwwpgeLNlHMVYrZvPsQkcQgPpierYSahialdXlde\n",
    "rNsZEKdYYlKKRrYGNWEXTYXOpQqrdGANRfoyeVvRwLVhZDfzKhFQkuSYODIXFLYafnXbxuwqZKQKjSiFZAtSponvmulcjicIDhNaQ\n",
    "TttSFLqbNkHvOeHSKTTGEEGxwtXImLeCmcKjvsIkIIvvlsUSazNuEsdDYlOljweSubVJxHbSJkBpByFiUCFctgrLKhlYgEWWuDYqx\n",
    "Пример 2-го входного файла:\n",
    "30 84\n",
    "5 79\n",
    "70 70\n",
    "Пример выходного файла:\n",
    "vrNOQoxUbyiZombbLaYqBHvydPJlvdspwwpgeLNlHMVYrZvPsQkcQgP KdYYlKKRrYGNWEXTYXOpQqrdGANRfoyeVvRwLVhZDfzKhFQkuSYODIXFLYafnXbxuwqZKQKjSiF b\n"
   ]
  },
  {
   "cell_type": "code",
   "execution_count": 27,
   "metadata": {},
   "outputs": [],
   "source": [
    "'''with open('test_import_file_2_1.txt', 'r') as f_input_first, \\\n",
    "     open('test_import_file_2_2.txt', 'r') as f_input_second, \\\n",
    "     open('test_output_file_2_.txt', 'w') as f_output:'''\n",
    "with open('import_file_2_1.txt', 'r') as f_input_first, \\\n",
    "     open('import_file_2_2.txt', 'r') as f_input_second, \\\n",
    "     open('output_file_2.txt', 'w') as f_output:  \n",
    "    for line_second in f_input_second:\n",
    "        slice_indexes = line_second.rstrip('\\n').split()\n",
    "        slice_indexes = int(slice_indexes[0]), 1 + int(slice_indexes[1])\n",
    "        line_first = f_input_first.readline().rstrip('\\n')\n",
    "        f_output.write(f'{line_first[slice_indexes[0]:slice_indexes[1]]} ')\n"
   ]
  },
  {
   "cell_type": "markdown",
   "metadata": {},
   "source": [
    "На вход поступает строка.\n",
    "В ней хранится набор химических символов (He, O, H, Mg, Fe, ...). Без пробелов.\n",
    "Нужно расшифровать химические символы в название химических элементов.\n",
    "Для удобства, прилагается json файл, который ставит в соответствие химическому символу его химическое название.\n",
    "Как прочитать этот файл в словарь python (dict):\n",
    "\n",
    "periodic_table = json.load(open('periodic_table.json'))\n",
    "Пример входной строки:\n",
    "\n",
    "NOTiFICaTiON\n",
    "Пример выходной строки:\n",
    "\n",
    "АзотКислородТитанФторЙодКальцийТитанКислородАзот\n",
    "Обратите внимание, что, например, \"Bi\" - это \"Висмут\", а не \"БорЙод\".\n",
    "То есть регистр (заглавные или прописные) букв имеет значение.\n",
    "\n"
   ]
  },
  {
   "cell_type": "code",
   "execution_count": 33,
   "metadata": {},
   "outputs": [],
   "source": [
    "import json\n",
    "\n",
    "\n",
    "periodic_table = json.load(open('periodic_table.json', encoding='u8'))\n",
    "with open('import_file_3.txt', 'r') as f_input, \\\n",
    "  open('output_file_3.txt', 'w', encoding='u8') as f_output:\n",
    "    chemical_symbols = f_input.read().rstrip('\\n') #.split()\n",
    "    #chemical_symbols = 'NOTiFICaTiON'\n",
    "    \n",
    "    ch_symbol = ''\n",
    "    for i in range(len(chemical_symbols)):\n",
    "        if chemical_symbols[i].istitle():\n",
    "            if not ch_symbol == '':\n",
    "                    f_output.write(periodic_table[ch_symbol])\n",
    "            ch_symbol = chemical_symbols[i]\n",
    "            continue\n",
    "        ch_symbol += chemical_symbols[i]\n",
    "    f_output.write(periodic_table[ch_symbol])\n",
    "             \n"
   ]
  },
  {
   "cell_type": "markdown",
   "metadata": {},
   "source": [
    "# походу это конец, никаких материалов после начала февраля нет (имхо СВО положила конец курсу, который не успел начаться)"
   ]
  }
 ],
 "metadata": {
  "kernelspec": {
   "display_name": "Python 3",
   "language": "python",
   "name": "python3"
  },
  "language_info": {
   "codemirror_mode": {
    "name": "ipython",
    "version": 3
   },
   "file_extension": ".py",
   "mimetype": "text/x-python",
   "name": "python",
   "nbconvert_exporter": "python",
   "pygments_lexer": "ipython3",
   "version": "3.11.3"
  },
  "orig_nbformat": 4
 },
 "nbformat": 4,
 "nbformat_minor": 2
}
